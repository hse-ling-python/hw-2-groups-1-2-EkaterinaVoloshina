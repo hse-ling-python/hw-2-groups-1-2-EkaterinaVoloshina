{
 "cells": [
  {
   "cell_type": "markdown",
   "metadata": {},
   "source": [
    "# Домашнее задание №2.\n",
    "*Екатерина Волошина, БКЛ-182*\n",
    "## Проверка на PEP-8"
   ]
  },
  {
   "cell_type": "code",
   "execution_count": 58,
   "metadata": {},
   "outputs": [
    {
     "name": "stdout",
     "output_type": "stream",
     "text": [
      "The pycodestyle_magic extension is already loaded. To reload it, use:\n",
      "  %reload_ext pycodestyle_magic\n"
     ]
    }
   ],
   "source": [
    "%load_ext pycodestyle_magic\n",
    "%flake8_on"
   ]
  },
  {
   "cell_type": "markdown",
   "metadata": {},
   "source": [
    "## Задание 1. Книга\n",
    "В директории лежит \"Красное и черное\" Стендаля, откроем его в питоне и сохраним в переменную **text**."
   ]
  },
  {
   "cell_type": "code",
   "execution_count": 59,
   "metadata": {},
   "outputs": [],
   "source": [
    "with open('redblack.txt_Ascii.txt', 'r', encoding='utf-8') as file:\n",
    "    text = file.read()"
   ]
  },
  {
   "cell_type": "markdown",
   "metadata": {},
   "source": [
    "## Задание 2. MyStem\n",
    "Для начала импортируем модуль json для дальнейшей работы с ним."
   ]
  },
  {
   "cell_type": "code",
   "execution_count": 60,
   "metadata": {},
   "outputs": [],
   "source": [
    "import json"
   ]
  },
  {
   "cell_type": "markdown",
   "metadata": {},
   "source": [
    "Теперь импортируем MyStem из модуля pymystem3."
   ]
  },
  {
   "cell_type": "code",
   "execution_count": 61,
   "metadata": {},
   "outputs": [],
   "source": [
    "from pymystem3 import Mystem\n",
    "m = Mystem()"
   ]
  },
  {
   "cell_type": "markdown",
   "metadata": {},
   "source": [
    "Чистим текст от знаков препинания."
   ]
  },
  {
   "cell_type": "code",
   "execution_count": 62,
   "metadata": {},
   "outputs": [],
   "source": [
    "from string import punctuation\n",
    "for i in punctuation:\n",
    "    text = text.replace(i, '')\n",
    "text = text.replace('\\n', ' ')"
   ]
  },
  {
   "cell_type": "markdown",
   "metadata": {},
   "source": [
    "Проводим разбор с помощью analyze и замеряем время."
   ]
  },
  {
   "cell_type": "code",
   "execution_count": 63,
   "metadata": {},
   "outputs": [
    {
     "name": "stdout",
     "output_type": "stream",
     "text": [
      "Wall time: 17.9 s\n"
     ]
    }
   ],
   "source": [
    "%%time\n",
    "ana = m.analyze(text)"
   ]
  },
  {
   "cell_type": "markdown",
   "metadata": {},
   "source": [
    "Записываем результат анализа в файл json."
   ]
  },
  {
   "cell_type": "code",
   "execution_count": 64,
   "metadata": {},
   "outputs": [],
   "source": [
    "with open('mystem.json', 'w', encoding='utf-8') as file:\n",
    "    json.dump(ana, file, ensure_ascii=False)"
   ]
  },
  {
   "cell_type": "markdown",
   "metadata": {},
   "source": [
    "## Задание 3. PyMorphy\n",
    "Импортируем из nltk.tokenize word_tokenize и обрабатываем с помощью него текст."
   ]
  },
  {
   "cell_type": "code",
   "execution_count": 65,
   "metadata": {},
   "outputs": [],
   "source": [
    "from nltk.tokenize import word_tokenize\n",
    "words = word_tokenize(text)"
   ]
  },
  {
   "cell_type": "markdown",
   "metadata": {},
   "source": [
    "Импортируем MorphAnalyzer из pymorphy2. "
   ]
  },
  {
   "cell_type": "code",
   "execution_count": 66,
   "metadata": {},
   "outputs": [],
   "source": [
    "from pymorphy2 import MorphAnalyzer\n",
    "morph = MorphAnalyzer()"
   ]
  },
  {
   "cell_type": "markdown",
   "metadata": {},
   "source": [
    "Создаем пустой список, куда будем добавлять результат анализа."
   ]
  },
  {
   "cell_type": "code",
   "execution_count": 67,
   "metadata": {},
   "outputs": [],
   "source": [
    "words_parse = []"
   ]
  },
  {
   "cell_type": "markdown",
   "metadata": {},
   "source": [
    "Парсим текст, результат записываем в файл."
   ]
  },
  {
   "cell_type": "code",
   "execution_count": 68,
   "metadata": {},
   "outputs": [
    {
     "name": "stdout",
     "output_type": "stream",
     "text": [
      "Wall time: 1min 14s\n"
     ]
    }
   ],
   "source": [
    "%%time\n",
    "for word in words:\n",
    "    words_parse.append(morph.parse(word))"
   ]
  },
  {
   "cell_type": "markdown",
   "metadata": {},
   "source": [
    "Создаем пустой список, в который добавляем словари вида {токен : лемма, часть речи}."
   ]
  },
  {
   "cell_type": "code",
   "execution_count": 69,
   "metadata": {},
   "outputs": [],
   "source": [
    "dict_words = []\n",
    "for word in words_parse:\n",
    "    first = word[0]\n",
    "    dict_w = {}\n",
    "    dict_w[first.word] = first.normal_form, first.tag.POS\n",
    "    dict_words.append(dict_w)"
   ]
  },
  {
   "cell_type": "markdown",
   "metadata": {},
   "source": [
    "Записываем результат результат анализа в файл json."
   ]
  },
  {
   "cell_type": "code",
   "execution_count": 70,
   "metadata": {},
   "outputs": [],
   "source": [
    "with open('dict.json', 'w', encoding='utf-8') as file:\n",
    "    json.dump(dict_words, file, ensure_ascii=False)"
   ]
  },
  {
   "cell_type": "markdown",
   "metadata": {},
   "source": [
    "Создаем пустой список для задания со звездочкой. Записываем туда весь разбор в список словарей. В словарь записываем как ключ токен, как значение - список, содержащий весь разбор .tag"
   ]
  },
  {
   "cell_type": "code",
   "execution_count": 71,
   "metadata": {},
   "outputs": [],
   "source": [
    "dict_words_2 = []\n",
    "for word in words_parse:\n",
    "    first = word[0]\n",
    "    dict_2 = {}\n",
    "    dict_2[first.word] = str(first.tag).split(',')\n",
    "    dict_words_2.append(dict_2)"
   ]
  },
  {
   "cell_type": "markdown",
   "metadata": {},
   "source": [
    "Записываем результат в файл json."
   ]
  },
  {
   "cell_type": "code",
   "execution_count": 72,
   "metadata": {},
   "outputs": [],
   "source": [
    "with open('dict_2.json', 'w', encoding='utf-8') as file:\n",
    "    json.dump(dict_words_2, file, ensure_ascii=False)"
   ]
  },
  {
   "cell_type": "markdown",
   "metadata": {},
   "source": [
    "## Задание 4. Части речи и топ глаголов и наречий.\n",
    "Импортируем Counter для дальнейшего составления частотных словарей."
   ]
  },
  {
   "cell_type": "code",
   "execution_count": 73,
   "metadata": {},
   "outputs": [],
   "source": [
    "from collections import Counter"
   ]
  },
  {
   "cell_type": "markdown",
   "metadata": {},
   "source": [
    "Создаем пустой список, куда записываем часть речи каждого токена, затем создаем частотный словарь на основе этого списка"
   ]
  },
  {
   "cell_type": "code",
   "execution_count": 74,
   "metadata": {},
   "outputs": [],
   "source": [
    "POS_list = []\n",
    "for i in dict_words:\n",
    "    for value in i.values():\n",
    "        POS_list.append(value[1])\n",
    "counter_POS = Counter(POS_list)"
   ]
  },
  {
   "cell_type": "markdown",
   "metadata": {},
   "source": [
    "### Ответ:\n",
    "Части речи и их отношение к общему числу слов."
   ]
  },
  {
   "cell_type": "code",
   "execution_count": 75,
   "metadata": {},
   "outputs": [
    {
     "name": "stdout",
     "output_type": "stream",
     "text": [
      "NOUN  -  23.0149152869624\n",
      "ADJF  -  12.433026017280495\n",
      "CONJ  -  9.104841434570643\n",
      "None  -  1.0383984167591833\n",
      "PRCL  -  6.5477627069556394\n",
      "VERB  -  12.226070376985085\n",
      "ADVB  -  6.090408842979196\n",
      "ADJS  -  1.8101076410677222\n",
      "INFN  -  3.403002365207318\n",
      "PREP  -  9.852415890331612\n",
      "NPRO  -  10.847975092918858\n",
      "INTJ  -  0.16713327219191967\n",
      "PRTS  -  0.44407974127528116\n",
      "NUMR  -  0.6757735193319496\n",
      "COMP  -  0.33305980595646084\n",
      "PRTF  -  0.7536081478978617\n",
      "PRED  -  0.4223584495824685\n",
      "GRND  -  0.8350629917459091\n"
     ]
    }
   ],
   "source": [
    "for key, value in counter_POS.items():\n",
    "    print(key, ' - ', value/len(POS_list)*100)"
   ]
  },
  {
   "cell_type": "markdown",
   "metadata": {},
   "source": [
    "Создаем пустые списки для глаголов и наречий."
   ]
  },
  {
   "cell_type": "code",
   "execution_count": 76,
   "metadata": {},
   "outputs": [],
   "source": [
    "verb_list = []\n",
    "adverb_list = []"
   ]
  },
  {
   "cell_type": "markdown",
   "metadata": {},
   "source": [
    "Добавляем в списки леммы всех глаголов и наречий соответственно. "
   ]
  },
  {
   "cell_type": "code",
   "execution_count": 77,
   "metadata": {},
   "outputs": [],
   "source": [
    "for i in dict_words:\n",
    "    for value in i.values():\n",
    "        if value[1] == 'VERB':\n",
    "            verb_list.append(value[0])\n",
    "        elif value[1] == 'ADVB':\n",
    "            adverb_list.append(value[0])"
   ]
  },
  {
   "cell_type": "markdown",
   "metadata": {},
   "source": [
    "Создаем на основе списков частотне словари, упорядоченные по частотности."
   ]
  },
  {
   "cell_type": "code",
   "execution_count": 78,
   "metadata": {},
   "outputs": [],
   "source": [
    "verb_top = Counter(verb_list).most_common()\n",
    "adverb_top = Counter(adverb_list).most_common()"
   ]
  },
  {
   "cell_type": "markdown",
   "metadata": {},
   "source": [
    "### Ответ: \n",
    "Топ-20 глаголов:"
   ]
  },
  {
   "cell_type": "code",
   "execution_count": 79,
   "metadata": {},
   "outputs": [
    {
     "name": "stdout",
     "output_type": "stream",
     "text": [
      "быть  -  2257\n",
      "мочь  -  736\n",
      "сказать  -  506\n",
      "говорить  -  320\n",
      "стать  -  230\n",
      "подумать  -  208\n",
      "знать  -  183\n",
      "видеть  -  176\n",
      "любить  -  146\n",
      "думать  -  138\n",
      "хотеть  -  122\n",
      "отвечать  -  116\n",
      "увидеть  -  109\n",
      "заметить  -  100\n",
      "чувствовать  -  95\n",
      "дать  -  94\n",
      "сделать  -  93\n",
      "показаться  -  88\n",
      "стоить  -  82\n",
      "идти  -  81\n"
     ]
    }
   ],
   "source": [
    "for i in range(20):\n",
    "    print(verb_top[i][0], ' - ', verb_top[i][1])"
   ]
  },
  {
   "cell_type": "markdown",
   "metadata": {},
   "source": [
    "Топ-20 наречий:"
   ]
  },
  {
   "cell_type": "code",
   "execution_count": 80,
   "metadata": {},
   "outputs": [
    {
     "name": "stdout",
     "output_type": "stream",
     "text": [
      "уже  -  2257\n",
      "теперь  -  736\n",
      "уж  -  506\n",
      "очень  -  320\n",
      "сейчас  -  230\n",
      "никогда  -  208\n",
      "несколько  -  183\n",
      "совсем  -  176\n",
      "наконец  -  146\n",
      "более  -  138\n",
      "тут  -  122\n",
      "здесь  -  116\n",
      "тогда  -  109\n",
      "вдруг  -  100\n",
      "всего  -  95\n",
      "весьма  -  94\n",
      "совершенно  -  93\n",
      "там  -  88\n",
      "чуть  -  82\n",
      "столь  -  81\n"
     ]
    }
   ],
   "source": [
    "for i in range(20):\n",
    "    print(adverb_top[i][0], ' - ', verb_top[i][1])"
   ]
  },
  {
   "cell_type": "markdown",
   "metadata": {},
   "source": [
    "## Задание 5. Топы биграмм и триграмм."
   ]
  },
  {
   "cell_type": "markdown",
   "metadata": {},
   "source": [
    "Создаем пустой список для лемм, добавляем туда леммы всех словоформ."
   ]
  },
  {
   "cell_type": "code",
   "execution_count": 81,
   "metadata": {},
   "outputs": [],
   "source": [
    "lemmas = []\n",
    "for i in words_parse:\n",
    "    first = i[0]\n",
    "    lemmas.append(first.normal_form)"
   ]
  },
  {
   "cell_type": "markdown",
   "metadata": {},
   "source": [
    "Импортируем из nltk.util bigrams для составления биграмм.\n",
    "Создаем список биграмм, на его основе создаем частотный словарь, который упорядочиваем по частотности."
   ]
  },
  {
   "cell_type": "code",
   "execution_count": 82,
   "metadata": {},
   "outputs": [],
   "source": [
    "from nltk.util import bigrams\n",
    "bigrams = list(bigrams(lemmas))\n",
    "top_bi = Counter(bigrams).most_common()"
   ]
  },
  {
   "cell_type": "markdown",
   "metadata": {},
   "source": [
    "Аналогично создаем частотный словарь триграмм."
   ]
  },
  {
   "cell_type": "code",
   "execution_count": 83,
   "metadata": {},
   "outputs": [],
   "source": [
    "from nltk.util import trigrams\n",
    "trigrams = list(trigrams(lemmas))\n",
    "top_tri = Counter(trigrams).most_common()"
   ]
  },
  {
   "cell_type": "markdown",
   "metadata": {},
   "source": [
    "### Ответ:\n",
    "Топ-25 биграмм"
   ]
  },
  {
   "cell_type": "code",
   "execution_count": 84,
   "metadata": {},
   "outputs": [
    {
     "name": "stdout",
     "output_type": "stream",
     "text": [
      "1 де реналя  -  623\n",
      "2 что он  -  352\n",
      "3 де ламоля  -  332\n",
      "4 это быть  -  237\n",
      "5 гжа де  -  234\n",
      "6 он не  -  214\n",
      "7 тот что  -  210\n",
      "8 не мочь  -  209\n",
      "9 он быть  -  197\n",
      "10 у он  -  195\n",
      "11 который он  -  190\n",
      "12 и он  -  188\n",
      "13 что я  -  183\n",
      "14 не быть  -  182\n",
      "15 что она  -  179\n",
      "16 гн де  -  171\n",
      "17 если бы  -  162\n",
      "18 сказать он  -  161\n",
      "19 с он  -  157\n",
      "20 в этот  -  154\n",
      "21 он и  -  154\n",
      "22 я не  -  154\n",
      "23 он в  -  152\n",
      "24 и не  -  148\n",
      "25 в тот  -  143\n"
     ]
    }
   ],
   "source": [
    "for i in range(25):\n",
    "    print(i+1, ' '.join(top_bi[i][0]), ' - ', top_bi[i][1])"
   ]
  },
  {
   "cell_type": "markdown",
   "metadata": {},
   "source": [
    "Топ-25 триграмм"
   ]
  },
  {
   "cell_type": "code",
   "execution_count": 85,
   "metadata": {},
   "outputs": [
    {
     "name": "stdout",
     "output_type": "stream",
     "text": [
      "1 гжа де реналя  -  207\n",
      "2 гн де реналя  -  101\n",
      "3 мль де ламоля  -  100\n",
      "4 госпожа де реналя  -  71\n",
      "5 гжи де реналя  -  69\n",
      "6 чуть ли не  -  64\n",
      "7 о тот что  -  60\n",
      "8 в конец конец  -  53\n",
      "9 после тот как  -  48\n",
      "10 гна де реналя  -  47\n",
      "11 мадемуазель де ламоля  -  43\n",
      "12 в тот что  -  41\n",
      "13 на другой день  -  40\n",
      "14 тот что он  -  39\n",
      "15 гже де реналя  -  38\n",
      "16 говорить он себя  -  38\n",
      "17 господин де реналя  -  37\n",
      "18 по крайний мера  -  37\n",
      "19 гн де ламоля  -  36\n",
      "20 гжу де реналя  -  34\n",
      "21 для тот чтобы  -  32\n",
      "22 до сей пора  -  30\n",
      "23 в этот минута  -  30\n",
      "24 де реналя и  -  29\n",
      "25 в тот же  -  29\n"
     ]
    }
   ],
   "source": [
    "for i in range(25):\n",
    "    print(i+1, ' '.join(top_tri[i][0]), ' - ', top_tri[i][1])"
   ]
  },
  {
   "cell_type": "code",
   "execution_count": null,
   "metadata": {},
   "outputs": [],
   "source": []
  }
 ],
 "metadata": {
  "kernelspec": {
   "display_name": "Python 3",
   "language": "python",
   "name": "python3"
  },
  "language_info": {
   "codemirror_mode": {
    "name": "ipython",
    "version": 3
   },
   "file_extension": ".py",
   "mimetype": "text/x-python",
   "name": "python",
   "nbconvert_exporter": "python",
   "pygments_lexer": "ipython3",
   "version": "3.7.3"
  }
 },
 "nbformat": 4,
 "nbformat_minor": 2
}
