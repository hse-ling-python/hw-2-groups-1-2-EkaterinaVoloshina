{
 "cells": [
  {
   "cell_type": "markdown",
   "metadata": {},
   "source": [
    "# Домашнее задание №2.\n",
    "*Екатерина Волошина, БКЛ-182*\n",
    "\n",
    "**NB!** К сожалению, output не работает вместе с проверкой на PEP-8. В репрезитории есть копия этого файла с проверкой на PEP-8!"
   ]
  },
  {
   "cell_type": "markdown",
   "metadata": {},
   "source": [
    "## Задание 1. Книга\n",
    "В директории лежит \"Маленький принц\" А. Сент-Экзюпери, откроем его в питоне и сохраним в переменную **text**."
   ]
  },
  {
   "cell_type": "code",
   "execution_count": 169,
   "metadata": {},
   "outputs": [],
   "source": [
    "with open('mprinc.txt_Ascii.txt', 'r', encoding='utf-8') as file:\n",
    "    text = file.read()"
   ]
  },
  {
   "cell_type": "markdown",
   "metadata": {},
   "source": [
    "## Задание 2. MyStem\n",
    "Для начала импортируем модуль json для дальнейшей работы с ним."
   ]
  },
  {
   "cell_type": "code",
   "execution_count": 170,
   "metadata": {},
   "outputs": [],
   "source": [
    "import json"
   ]
  },
  {
   "cell_type": "markdown",
   "metadata": {},
   "source": [
    "Теперь импортируем MyStem из модуля pymystem3."
   ]
  },
  {
   "cell_type": "code",
   "execution_count": 171,
   "metadata": {},
   "outputs": [],
   "source": [
    "from pymystem3 import Mystem\n",
    "m = Mystem()"
   ]
  },
  {
   "cell_type": "markdown",
   "metadata": {},
   "source": [
    "Чистим текст от знаков препинания."
   ]
  },
  {
   "cell_type": "code",
   "execution_count": 172,
   "metadata": {},
   "outputs": [],
   "source": [
    "from string import punctuation\n",
    "for i in punctuation:\n",
    "    text = text.replace(i, '')\n",
    "text = text.replace('\\n', ' ')"
   ]
  },
  {
   "cell_type": "markdown",
   "metadata": {},
   "source": [
    "Проводим разбор с помощью analyze и замеряем время."
   ]
  },
  {
   "cell_type": "code",
   "execution_count": 173,
   "metadata": {},
   "outputs": [
    {
     "name": "stdout",
     "output_type": "stream",
     "text": [
      "Wall time: 2.86 s\n"
     ]
    }
   ],
   "source": [
    "%%time\n",
    "ana = m.analyze(text)"
   ]
  },
  {
   "cell_type": "markdown",
   "metadata": {},
   "source": [
    "Записываем результат анализа в файл json."
   ]
  },
  {
   "cell_type": "code",
   "execution_count": 174,
   "metadata": {},
   "outputs": [],
   "source": [
    "with open('mystem.json', 'w', encoding='utf-8') as file:\n",
    "    json.dump(ana, file, ensure_ascii=False)"
   ]
  },
  {
   "cell_type": "markdown",
   "metadata": {},
   "source": [
    "## Задание 3. PyMorphy\n",
    "Импортируем из nltk.tokenize word_tokenize и обрабатываем с помощью него текст."
   ]
  },
  {
   "cell_type": "code",
   "execution_count": 175,
   "metadata": {},
   "outputs": [],
   "source": [
    "from nltk.tokenize import word_tokenize\n",
    "words = word_tokenize(text)"
   ]
  },
  {
   "cell_type": "markdown",
   "metadata": {},
   "source": [
    "Импортируем MorphAnalyzer из pymorphy2. "
   ]
  },
  {
   "cell_type": "code",
   "execution_count": 176,
   "metadata": {},
   "outputs": [],
   "source": [
    "from pymorphy2 import MorphAnalyzer\n",
    "morph = MorphAnalyzer()"
   ]
  },
  {
   "cell_type": "markdown",
   "metadata": {},
   "source": [
    "Создаем пустой список, куда будем добавлять результат анализа."
   ]
  },
  {
   "cell_type": "code",
   "execution_count": 177,
   "metadata": {},
   "outputs": [],
   "source": [
    "words_parse = []"
   ]
  },
  {
   "cell_type": "markdown",
   "metadata": {},
   "source": [
    "Парсим текст, результат записываем в файл."
   ]
  },
  {
   "cell_type": "code",
   "execution_count": 178,
   "metadata": {},
   "outputs": [
    {
     "name": "stdout",
     "output_type": "stream",
     "text": [
      "Wall time: 4.28 s\n"
     ]
    }
   ],
   "source": [
    "%%time\n",
    "for word in words:\n",
    "    words_parse.append(morph.parse(word))"
   ]
  },
  {
   "cell_type": "markdown",
   "metadata": {},
   "source": [
    "Создаем пустой список, в который добавляем словари вида {токен : лемма, часть речи}."
   ]
  },
  {
   "cell_type": "code",
   "execution_count": 179,
   "metadata": {},
   "outputs": [],
   "source": [
    "dict_words = []\n",
    "for word in words_parse:\n",
    "    first = word[0]\n",
    "    dict_w = {}\n",
    "    dict_w[first.word] = first.normal_form, first.tag.POS\n",
    "    dict_words.append(dict_w)"
   ]
  },
  {
   "cell_type": "markdown",
   "metadata": {},
   "source": [
    "Записываем результат результат анализа в файл json."
   ]
  },
  {
   "cell_type": "code",
   "execution_count": 180,
   "metadata": {},
   "outputs": [],
   "source": [
    "with open('dict.json', 'w', encoding='utf-8') as file:\n",
    "    json.dump(dict_words, file, ensure_ascii=False)"
   ]
  },
  {
   "cell_type": "markdown",
   "metadata": {},
   "source": [
    "Создаем пустой список для задания со звездочкой. Записываем туда весь разбор в список словарей. В словарь записываем как ключ токен, как значение - список, содержащий весь разбор .tag"
   ]
  },
  {
   "cell_type": "code",
   "execution_count": 181,
   "metadata": {},
   "outputs": [],
   "source": [
    "dict_words_2 = []\n",
    "for word in words_parse:\n",
    "    first = word[0]\n",
    "    dict_2 = {}\n",
    "    dict_2[first.word] = str(first.tag).split(',')\n",
    "    dict_words_2.append(dict_2)"
   ]
  },
  {
   "cell_type": "markdown",
   "metadata": {},
   "source": [
    "Записываем результат в файл json."
   ]
  },
  {
   "cell_type": "code",
   "execution_count": 182,
   "metadata": {},
   "outputs": [],
   "source": [
    "with open('dict_2.json', 'w', encoding='utf-8') as file:\n",
    "    json.dump(dict_words_2, file, ensure_ascii=False)"
   ]
  },
  {
   "cell_type": "markdown",
   "metadata": {},
   "source": [
    "## Задание 4. Части речи и топ глаголов и наречий.\n",
    "Импортируем Counter для дальнейшего составления частотных словарей."
   ]
  },
  {
   "cell_type": "code",
   "execution_count": 183,
   "metadata": {},
   "outputs": [],
   "source": [
    "from collections import Counter"
   ]
  },
  {
   "cell_type": "markdown",
   "metadata": {},
   "source": [
    "Создаем пустой список, куда записываем часть речи каждого токена, затем создаем частотный словарь на основе этого списка"
   ]
  },
  {
   "cell_type": "code",
   "execution_count": 184,
   "metadata": {},
   "outputs": [],
   "source": [
    "POS_list = []\n",
    "for i in dict_words:\n",
    "    for value in i.values():\n",
    "        POS_list.append(value[1])\n",
    "counter_POS = Counter(POS_list)"
   ]
  },
  {
   "cell_type": "markdown",
   "metadata": {},
   "source": [
    "### Ответ:\n",
    "Части речи и их отношение к общему числу слов."
   ]
  },
  {
   "cell_type": "code",
   "execution_count": 185,
   "metadata": {},
   "outputs": [
    {
     "name": "stdout",
     "output_type": "stream",
     "text": [
      "NOUN  -  19.856712529512336\n",
      "PRCL  -  7.164373524383294\n",
      "ADJF  -  10.363917609704469\n",
      "None  -  0.46405601237482696\n",
      "CONJ  -  11.59325897582024\n",
      "PREP  -  7.148090857282423\n",
      "VERB  -  15.31384840836929\n",
      "INFN  -  2.8901734104046244\n",
      "NPRO  -  12.643491003826426\n",
      "ADVB  -  7.595864202556379\n",
      "ADJS  -  1.2130586990148986\n",
      "NUMR  -  1.0827973622079297\n",
      "GRND  -  0.4233493446226492\n",
      "COMP  -  0.5617520149800538\n",
      "PRED  -  0.8304160221444272\n",
      "PRTS  -  0.2523813400635024\n",
      "PRTF  -  0.24424000651306685\n",
      "INTJ  -  0.3582186762191647\n"
     ]
    }
   ],
   "source": [
    "for key, value in counter_POS.items():\n",
    "    print(key, ' - ', value/len(POS_list)*100)"
   ]
  },
  {
   "cell_type": "markdown",
   "metadata": {},
   "source": [
    "Создаем пустые списки для глаголов и наречий."
   ]
  },
  {
   "cell_type": "code",
   "execution_count": 186,
   "metadata": {},
   "outputs": [],
   "source": [
    "verb_list = []\n",
    "adverb_list = []"
   ]
  },
  {
   "cell_type": "markdown",
   "metadata": {},
   "source": [
    "Добавляем в списки леммы всех глаголов и наречий соответственно. "
   ]
  },
  {
   "cell_type": "code",
   "execution_count": 187,
   "metadata": {},
   "outputs": [],
   "source": [
    "for i in dict_words:\n",
    "    for value in i.values():\n",
    "        if value[1] == 'VERB':\n",
    "            verb_list.append(value[0])\n",
    "        elif value[1] == 'ADVB':\n",
    "            adverb_list.append(value[0])"
   ]
  },
  {
   "cell_type": "markdown",
   "metadata": {},
   "source": [
    "Создаем на основе списков частотне словари, упорядоченные по частотности."
   ]
  },
  {
   "cell_type": "code",
   "execution_count": 188,
   "metadata": {},
   "outputs": [],
   "source": [
    "verb_top = Counter(verb_list).most_common()\n",
    "adverb_top = Counter(adverb_list).most_common()"
   ]
  },
  {
   "cell_type": "markdown",
   "metadata": {},
   "source": [
    "### Ответ: \n",
    "Топ-20 глаголов:"
   ]
  },
  {
   "cell_type": "code",
   "execution_count": 189,
   "metadata": {},
   "outputs": [
    {
     "name": "stdout",
     "output_type": "stream",
     "text": [
      "быть  -  154\n",
      "сказать  -  128\n",
      "мочь  -  51\n",
      "спросить  -  36\n",
      "стать  -  35\n",
      "ответить  -  29\n",
      "знать  -  28\n",
      "хотеть  -  22\n",
      "видеть  -  20\n",
      "увидеть  -  19\n",
      "говорить  -  19\n",
      "подумать  -  19\n",
      "жить  -  18\n",
      "нарисовать  -  18\n",
      "понять  -  16\n",
      "смотреть  -  14\n",
      "любить  -  14\n",
      "понимать  -  13\n",
      "прибавить  -  12\n",
      "приручить  -  12\n"
     ]
    }
   ],
   "source": [
    "for i in range(20):\n",
    "    print(verb_top[i][0], ' - ', verb_top[i][1])"
   ]
  },
  {
   "cell_type": "markdown",
   "metadata": {},
   "source": [
    "Топ-20 наречий:"
   ]
  },
  {
   "cell_type": "code",
   "execution_count": 190,
   "metadata": {},
   "outputs": [
    {
     "name": "stdout",
     "output_type": "stream",
     "text": [
      "очень  -  154\n",
      "потом  -  128\n",
      "совсем  -  51\n",
      "тоже  -  36\n",
      "тогда  -  35\n",
      "уже  -  29\n",
      "никогда  -  28\n",
      "там  -  22\n",
      "потому  -  20\n",
      "где  -  19\n",
      "точно  -  19\n",
      "здесь  -  19\n",
      "тут  -  18\n",
      "уж  -  18\n",
      "мало  -  16\n",
      "опять  -  14\n",
      "вдруг  -  14\n",
      "всего  -  13\n",
      "снова  -  12\n",
      "всегда  -  12\n"
     ]
    }
   ],
   "source": [
    "for i in range(20):\n",
    "    print(adverb_top[i][0], ' - ', verb_top[i][1])"
   ]
  },
  {
   "cell_type": "markdown",
   "metadata": {},
   "source": [
    "## Задание 5. Топы биграмм и триграмм."
   ]
  },
  {
   "cell_type": "markdown",
   "metadata": {},
   "source": [
    "Создаем пустой список для лемм, добавляем туда леммы всех словоформ."
   ]
  },
  {
   "cell_type": "code",
   "execution_count": 191,
   "metadata": {},
   "outputs": [],
   "source": [
    "lemmas = []\n",
    "for i in words_parse:\n",
    "    first = i[0]\n",
    "    lemmas.append(first.normal_form)"
   ]
  },
  {
   "cell_type": "markdown",
   "metadata": {},
   "source": [
    "Импортируем из nltk.util bigrams для составления биграмм.\n",
    "Создаем список биграмм, на его основе создаем частотный словарь, который упорядочиваем по частотности."
   ]
  },
  {
   "cell_type": "code",
   "execution_count": 192,
   "metadata": {},
   "outputs": [],
   "source": [
    "from nltk.util import bigrams\n",
    "bigrams = list(bigrams(lemmas))\n",
    "top_bi = Counter(bigrams).most_common()"
   ]
  },
  {
   "cell_type": "markdown",
   "metadata": {},
   "source": [
    "Аналогично создаем частотный словарь триграмм."
   ]
  },
  {
   "cell_type": "code",
   "execution_count": 193,
   "metadata": {},
   "outputs": [],
   "source": [
    "from nltk.util import trigrams\n",
    "trigrams = list(trigrams(lemmas))\n",
    "top_tri = Counter(trigrams).most_common()"
   ]
  },
  {
   "cell_type": "markdown",
   "metadata": {},
   "source": [
    "### Ответ:\n",
    "Топ-25 биграмм"
   ]
  },
  {
   "cell_type": "code",
   "execution_count": 194,
   "metadata": {},
   "outputs": [
    {
     "name": "stdout",
     "output_type": "stream",
     "text": [
      "1 маленький принц  -  176\n",
      "2 я не  -  38\n",
      "3 и я  -  38\n",
      "4 у я  -  36\n",
      "5 сказать он  -  30\n",
      "6 он не  -  24\n",
      "7 это быть  -  23\n",
      "8 сказать маленький  -  22\n",
      "9 и он  -  21\n",
      "10 я быть  -  19\n",
      "11 ничто не  -  17\n",
      "12 ты быть  -  17\n",
      "13 потому что  -  17\n",
      "14 но я  -  17\n",
      "15 спросить маленький  -  17\n",
      "16 не мочь  -  16\n",
      "17 он быть  -  15\n",
      "18 и не  -  15\n",
      "19 что ты  -  15\n",
      "20 но он  -  15\n",
      "21 не знать  -  15\n",
      "22 принц и  -  15\n",
      "23 добрый день  -  15\n",
      "24 что я  -  13\n",
      "25 и весь  -  13\n"
     ]
    }
   ],
   "source": [
    "for i in range(25):\n",
    "    print(i+1, ' '.join(top_bi[i][0]), ' - ', top_bi[i][1])"
   ]
  },
  {
   "cell_type": "markdown",
   "metadata": {},
   "source": [
    "Топ-25 триграмм"
   ]
  },
  {
   "cell_type": "code",
   "execution_count": 195,
   "metadata": {},
   "outputs": [
    {
     "name": "stdout",
     "output_type": "stream",
     "text": [
      "1 сказать маленький принц  -  22\n",
      "2 спросить маленький принц  -  17\n",
      "3 маленький принц и  -  15\n",
      "4 и маленький принц  -  11\n",
      "5 подумать маленький принц  -  8\n",
      "6 маленький принц он  -  7\n",
      "7 я человек серьёзный  -  7\n",
      "8 добрый день сказать  -  7\n",
      "9 но он не  -  6\n",
      "10 он не ответить  -  6\n",
      "11 у я есть  -  6\n",
      "12 маленький принц не  -  6\n",
      "13 у ты быть  -  5\n",
      "14 на мой планета  -  5\n",
      "15 повторить маленький принц  -  5\n",
      "16 промолвить маленький принц  -  5\n",
      "17 маленький принц а  -  5\n",
      "18 маленький принц я  -  5\n",
      "19 это я не  -  4\n",
      "20 на самый дело  -  4\n",
      "21 удав снаружи и  -  4\n",
      "22 и он опять  -  4\n",
      "23 потому что он  -  4\n",
      "24 такой же как  -  4\n",
      "25 но маленький принц  -  4\n"
     ]
    }
   ],
   "source": [
    "for i in range(25):\n",
    "    print(i+1, ' '.join(top_tri[i][0]), ' - ', top_tri[i][1])"
   ]
  }
 ],
 "metadata": {
  "kernelspec": {
   "display_name": "Python 3",
   "language": "python",
   "name": "python3"
  },
  "language_info": {
   "codemirror_mode": {
    "name": "ipython",
    "version": 3
   },
   "file_extension": ".py",
   "mimetype": "text/x-python",
   "name": "python",
   "nbconvert_exporter": "python",
   "pygments_lexer": "ipython3",
   "version": "3.7.3"
  }
 },
 "nbformat": 4,
 "nbformat_minor": 2
}
